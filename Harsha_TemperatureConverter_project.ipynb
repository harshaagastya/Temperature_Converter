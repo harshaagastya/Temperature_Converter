{
  "nbformat": 4,
  "nbformat_minor": 0,
  "metadata": {
    "colab": {
      "name": "Harsha_TemperatureConverter_project.ipynb",
      "provenance": [],
      "collapsed_sections": [],
      "authorship_tag": "ABX9TyO4+zR06KVnXm+NXFzx5JgQ",
      "include_colab_link": true
    },
    "kernelspec": {
      "name": "python3",
      "display_name": "Python 3"
    },
    "language_info": {
      "name": "python"
    }
  },
  "cells": [
    {
      "cell_type": "markdown",
      "metadata": {
        "id": "view-in-github",
        "colab_type": "text"
      },
      "source": [
        "<a href=\"https://colab.research.google.com/github/harshaagastya/Temperature_Converter/blob/main/Harsha_TemperatureConverter_project.ipynb\" target=\"_parent\"><img src=\"https://colab.research.google.com/assets/colab-badge.svg\" alt=\"Open In Colab\"/></a>"
      ]
    },
    {
      "cell_type": "code",
      "metadata": {
        "colab": {
          "base_uri": "https://localhost:8080/"
        },
        "id": "qBQF2BqyWGUE",
        "outputId": "8779c3d2-2f89-4e91-a076-791504b5ac69"
      },
      "source": [
        "# Python Zero To Hero Day4\n",
        "# Assignment $ Project \n",
        "# Temperature Converter\n",
        "# Celsius To Farenheit\n",
        "\n",
        "print(\"          TEMPERATURE CONVERTER           \") \n",
        "\n",
        "print(\"-----------------------------------------------\")\n",
        "\n",
        "celsius = float(input(\" Enter the Temperature in degree Celsius: \"))  \n",
        "  \n",
        "# Converting Temperature To Fahrenheit  \n",
        "fahrenheit = (celsius * 9/5) + 32  \n",
        "print(\" %0.1f° Celsius = %0.1f° in Fahrenheit\" %(celsius,fahrenheit)) "
      ],
      "execution_count": 25,
      "outputs": [
        {
          "output_type": "stream",
          "text": [
            "          TEMPERATURE CONVERTER           \n",
            "-----------------------------------------------\n",
            " Enter the Temperature in degree Celsius: 50\n",
            " 50.0° Celsius = 122.0° in Fahrenheit\n"
          ],
          "name": "stdout"
        }
      ]
    }
  ]
}